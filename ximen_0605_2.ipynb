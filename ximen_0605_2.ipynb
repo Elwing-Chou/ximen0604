{
  "nbformat": 4,
  "nbformat_minor": 0,
  "metadata": {
    "colab": {
      "provenance": [],
      "authorship_tag": "ABX9TyOSN4goJqb289V4mgNHq3Cs",
      "include_colab_link": true
    },
    "kernelspec": {
      "name": "python3",
      "display_name": "Python 3"
    },
    "language_info": {
      "name": "python"
    }
  },
  "cells": [
    {
      "cell_type": "markdown",
      "metadata": {
        "id": "view-in-github",
        "colab_type": "text"
      },
      "source": [
        "<a href=\"https://colab.research.google.com/github/Elwing-Chou/ximen0604/blob/main/ximen_0605_2.ipynb\" target=\"_parent\"><img src=\"https://colab.research.google.com/assets/colab-badge.svg\" alt=\"Open In Colab\"/></a>"
      ]
    },
    {
      "cell_type": "code",
      "execution_count": null,
      "metadata": {
        "id": "9H5XL3RNH818"
      },
      "outputs": [],
      "source": [
        "total = 0\n",
        "i = 0\n",
        "while i < 10:\n",
        "    total = total + (i + 1)\n",
        "    print(total)\n",
        "    i = i + 1"
      ]
    },
    {
      "cell_type": "code",
      "source": [
        "a, b = 2, 7\n",
        "ans = \"0.\""
      ],
      "metadata": {
        "id": "lTzeGyIGLd8d"
      },
      "execution_count": null,
      "outputs": []
    }
  ]
}