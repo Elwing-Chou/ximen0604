{
  "nbformat": 4,
  "nbformat_minor": 0,
  "metadata": {
    "colab": {
      "provenance": [],
      "authorship_tag": "ABX9TyOepUvy/kaj6jSi/l0XY+hV",
      "include_colab_link": true
    },
    "kernelspec": {
      "name": "python3",
      "display_name": "Python 3"
    },
    "language_info": {
      "name": "python"
    }
  },
  "cells": [
    {
      "cell_type": "markdown",
      "metadata": {
        "id": "view-in-github",
        "colab_type": "text"
      },
      "source": [
        "<a href=\"https://colab.research.google.com/github/Elwing-Chou/ximen0604/blob/main/ximen0604.ipynb\" target=\"_parent\"><img src=\"https://colab.research.google.com/assets/colab-badge.svg\" alt=\"Open In Colab\"/></a>"
      ]
    },
    {
      "cell_type": "markdown",
      "source": [
        "\n",
        "\n",
        "```\n",
        "1. 標準python: .py檔案\n",
        "2. python筆記本(jupyter notebook): .ipynb\n",
        "colab: 線上的jupyter notebook\n",
        "\n",
        "```\n",
        "\n"
      ],
      "metadata": {
        "id": "UCMN4voktCss"
      }
    },
    {
      "cell_type": "markdown",
      "source": [
        "\n",
        "\n",
        "```\n",
        "1. 可讀性: 排版/語法/註解\n",
        "排版: coding style\n",
        "\n",
        "2. 功能: print(參數)\n",
        "!!! 功能一定要家小括號: e.g. 洗澡()\n",
        "\n",
        "3. 絕不重覆寫同樣東西\n",
        "\n",
        "4. =: 符號名稱 = 值\n",
        "   a. 5 == 3 + 2(是否依樣?)\n",
        "   b. x = 2(替代)\n",
        "```\n",
        "\n"
      ],
      "metadata": {
        "id": "hhqikfaCxSGb"
      }
    },
    {
      "cell_type": "code",
      "execution_count": 5,
      "metadata": {
        "colab": {
          "base_uri": "https://localhost:8080/"
        },
        "id": "46OENbBLonGt",
        "outputId": "1ae41f3a-1ffb-4d17-e88d-bc0e8f797897"
      },
      "outputs": [
        {
          "output_type": "stream",
          "name": "stdout",
          "text": [
            "75\n",
            "175\n",
            "24.489795918367346\n"
          ]
        }
      ],
      "source": [
        "# calculate bmi: 體重(kg) / 身高(m) ^ 2\n",
        "weight = 75\n",
        "height = 175\n",
        "print(weight)\n",
        "print(height)\n",
        "print(weight / (height/100) ** 2)"
      ]
    }
  ]
}