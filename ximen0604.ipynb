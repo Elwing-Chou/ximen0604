{
  "nbformat": 4,
  "nbformat_minor": 0,
  "metadata": {
    "colab": {
      "provenance": [],
      "authorship_tag": "ABX9TyMWilncACjDbEh+PG1dk3kX",
      "include_colab_link": true
    },
    "kernelspec": {
      "name": "python3",
      "display_name": "Python 3"
    },
    "language_info": {
      "name": "python"
    }
  },
  "cells": [
    {
      "cell_type": "markdown",
      "metadata": {
        "id": "view-in-github",
        "colab_type": "text"
      },
      "source": [
        "<a href=\"https://colab.research.google.com/github/Elwing-Chou/ximen0604/blob/main/ximen0604.ipynb\" target=\"_parent\"><img src=\"https://colab.research.google.com/assets/colab-badge.svg\" alt=\"Open In Colab\"/></a>"
      ]
    },
    {
      "cell_type": "markdown",
      "source": [
        "\n",
        "\n",
        "```\n",
        "1. 標準python: .py檔案\n",
        "2. python筆記本(jupyter notebook): .ipynb\n",
        "colab: 線上的jupyter notebook\n",
        "\n",
        "```\n",
        "\n"
      ],
      "metadata": {
        "id": "UCMN4voktCss"
      }
    },
    {
      "cell_type": "markdown",
      "source": [
        "\n",
        "\n",
        "```\n",
        "1. 可讀性: 排版/語法/註解\n",
        "排版: coding style\n",
        "\n",
        "2. 功能: print(參數)\n",
        "!!! 功能一定要家小括號: e.g. 洗澡()\n",
        "\n",
        "3. 絕不重覆寫同樣東西\n",
        "\n",
        "4. =: 符號名稱 = 值\n",
        "   a. 5 == 3 + 2(是否依樣?)\n",
        "   b. x = 2(替代)\n",
        "\n",
        "5. 型態:\n",
        "   a. 數字型態: 整數(int) 小數(float)\n",
        "   b. 字串(str)型態: \"afasdf\"\n",
        "\n",
        "6. 型態轉換:\n",
        "   int() float() str()\n",
        "\n",
        "7. input功能:\n",
        "input(字串)\n",
        "參數: 你可以給一個字串\n",
        "回傳值: 做完這件事得到的\"新的\"回覆(答案)(check type: str)\n",
        "\n",
        "8. 如果否則(if else)\n",
        "(>, <, >=, <=, ==)\n",
        "\n",
        "9. 強制排版(縮排)(冒號/TAB)\n",
        "\n",
        "Amy:\n",
        "    x\n",
        "Bob:\n",
        "    ximen\n",
        "\n",
        "```\n",
        "\n"
      ],
      "metadata": {
        "id": "hhqikfaCxSGb"
      }
    },
    {
      "cell_type": "code",
      "execution_count": 29,
      "metadata": {
        "colab": {
          "base_uri": "https://localhost:8080/"
        },
        "id": "46OENbBLonGt",
        "outputId": "e7c4a7d0-6e07-46d1-9072-8eae2b898a40"
      },
      "outputs": [
        {
          "output_type": "stream",
          "name": "stdout",
          "text": [
            "請輸入體重(kg):75.3\n",
            "請輸入身高(cm):175\n",
            "你輸入的體重是:75.3(kg)\n",
            "你輸入的身高是:175.0(cm)\n",
            "bmi是:24.587755102040816\n",
            "正常\n",
            "!!!!\n"
          ]
        }
      ],
      "source": [
        "# calculate bmi: 體重(kg) / 身高(m) ^ 2\n",
        "weight = float(input(\"請輸入體重(kg):\"))\n",
        "height = float(input(\"請輸入身高(cm):\"))\n",
        "bmi = weight / (height/100) ** 2\n",
        "\n",
        "print(\"你輸入的體重是:\" + str(weight) + \"(kg)\")\n",
        "print(\"你輸入的身高是:\" + str(height) + \"(cm)\")\n",
        "print(\"bmi是:\" + str(bmi))\n",
        "\n",
        "if bmi > 25:\n",
        "    print(\"過重\")\n",
        "    print(\"少吃多動\")\n",
        "elif bmi > 18:\n",
        "    print(\"正常\")\n",
        "else:\n",
        "    print(\"過輕\")\n",
        "print(\"!!!!\")"
      ]
    },
    {
      "cell_type": "markdown",
      "source": [
        "\n",
        "\n",
        "```\n",
        "解釋小數誤差\n",
        "1. 進位\n",
        "十進位: 0 1 2 .. 9 10\n",
        "六進位: 0 1 2 3 4 5 10 11 12 13 14 15 20 .... 55 100\n",
        "二進位: 0 1 10 11 100 101 110\n",
        "\n",
        "0.33333333.....(十進位) = 0.1(三進位)\n",
        "0.3333333 * 3 = 1\n",
        "\n",
        "```\n",
        "\n"
      ],
      "metadata": {
        "id": "mHIATBgt5lJY"
      }
    },
    {
      "cell_type": "code",
      "source": [
        "print(type(4.0))\n",
        "print(3 + 3.14)"
      ],
      "metadata": {
        "colab": {
          "base_uri": "https://localhost:8080/"
        },
        "id": "H8k452r543cj",
        "outputId": "94c1c6ba-2270-4e14-febe-bcc66a311c3a"
      },
      "execution_count": 9,
      "outputs": [
        {
          "output_type": "stream",
          "name": "stdout",
          "text": [
            "<class 'float'>\n",
            "6.140000000000001\n"
          ]
        }
      ]
    },
    {
      "cell_type": "code",
      "source": [
        "a = 4.6\n",
        "b = int(a)\n",
        "print(a)\n",
        "print(b)\n",
        "\n",
        "a = 3\n",
        "b = a + 2\n",
        "print(a)\n",
        "print(b)"
      ],
      "metadata": {
        "colab": {
          "base_uri": "https://localhost:8080/"
        },
        "id": "IFswwfsQAR_J",
        "outputId": "07d4d084-30bf-4d31-bea5-50c9a826b2a7"
      },
      "execution_count": 18,
      "outputs": [
        {
          "output_type": "stream",
          "name": "stdout",
          "text": [
            "4.6\n",
            "4\n",
            "3\n",
            "5\n"
          ]
        }
      ]
    },
    {
      "cell_type": "markdown",
      "source": [
        "\n",
        "\n",
        "```\n",
        "1. 想好再下筆!!!\n",
        "\n",
        "2. 只要使用的是別之檔案的東西, 一定要先import(除了最內建的 built-in functions)\n",
        "\n",
        "import .py名字\n",
        "(import後面照抄一遍).(的)randint\n",
        "\n",
        "3. 清單型態(list)\n",
        "trans = [\"剪刀\", \"石頭\", \"布\"]\n",
        "python幫你製作一組key\n",
        "            0      1      2\n",
        "轉換(key-value)操作: 查詢東西[key]\n",
        "\n",
        "4.\n",
        "if\n",
        "elif\n",
        "else\n",
        "* else可以不寫\n",
        "* 先搞簡單的, 把剩下難的流到else\n",
        "```\n",
        "\n"
      ],
      "metadata": {
        "id": "tjjftO69ehjV"
      }
    },
    {
      "cell_type": "code",
      "source": [
        "import random\n",
        "\n",
        "trans = [\"剪刀\", \"石頭\", \"布\"]\n",
        "my = int(input(\"0.剪刀 1.石頭 2.布:\"))\n",
        "com = random.randint(0, 2)\n",
        "\n",
        "print(\"我出的:\", trans[my])\n",
        "print(\"電腦的:\", trans[com])\n",
        "# 如果我選的是電腦的下一個\n",
        "if my == (com + 1) % 3:\n",
        "    print(\"WIN\")\n",
        "elif com == (my + 1) % 3:\n",
        "    print(\"LOSE\")\n",
        "else:\n",
        "    print(\"EVEN\")"
      ],
      "metadata": {
        "colab": {
          "base_uri": "https://localhost:8080/"
        },
        "id": "DIc3itZHerCc",
        "outputId": "b04c183b-e211-4e15-911b-9a10c21d6310"
      },
      "execution_count": 48,
      "outputs": [
        {
          "output_type": "stream",
          "name": "stdout",
          "text": [
            "0.剪刀 1.石頭 2.布:0\n",
            "我出的: 剪刀\n",
            "電腦的: 布\n",
            "WIN\n"
          ]
        }
      ]
    },
    {
      "cell_type": "code",
      "source": [
        "s = \"今天星期三\"\n",
        "s[4]"
      ],
      "metadata": {
        "colab": {
          "base_uri": "https://localhost:8080/",
          "height": 35
        },
        "id": "yNW2-HNIn9Kc",
        "outputId": "c148159f-2c9c-49d4-f80d-e9c80a5e8ce9"
      },
      "execution_count": 42,
      "outputs": [
        {
          "output_type": "execute_result",
          "data": {
            "text/plain": [
              "'三'"
            ],
            "application/vnd.google.colaboratory.intrinsic+json": {
              "type": "string"
            }
          },
          "metadata": {},
          "execution_count": 42
        }
      ]
    }
  ]
}