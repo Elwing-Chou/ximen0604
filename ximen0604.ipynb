{
  "nbformat": 4,
  "nbformat_minor": 0,
  "metadata": {
    "colab": {
      "provenance": [],
      "authorship_tag": "ABX9TyP1Q5bh6X3I8dVeGaNCDRTi",
      "include_colab_link": true
    },
    "kernelspec": {
      "name": "python3",
      "display_name": "Python 3"
    },
    "language_info": {
      "name": "python"
    }
  },
  "cells": [
    {
      "cell_type": "markdown",
      "metadata": {
        "id": "view-in-github",
        "colab_type": "text"
      },
      "source": [
        "<a href=\"https://colab.research.google.com/github/Elwing-Chou/ximen0604/blob/main/ximen0604.ipynb\" target=\"_parent\"><img src=\"https://colab.research.google.com/assets/colab-badge.svg\" alt=\"Open In Colab\"/></a>"
      ]
    },
    {
      "cell_type": "markdown",
      "source": [
        "\n",
        "\n",
        "```\n",
        "1. 標準python: .py檔案\n",
        "2. python筆記本(jupyter notebook): .ipynb\n",
        "colab: 線上的jupyter notebook\n",
        "\n",
        "```\n",
        "\n"
      ],
      "metadata": {
        "id": "UCMN4voktCss"
      }
    },
    {
      "cell_type": "markdown",
      "source": [
        "\n",
        "\n",
        "```\n",
        "1. 可讀性: 排版/語法/註解\n",
        "排版: coding style\n",
        "\n",
        "2. 功能: print(參數)\n",
        "!!! 功能一定要家小括號: e.g. 洗澡()\n",
        "\n",
        "3. 絕不重覆寫同樣東西\n",
        "\n",
        "4. =: 符號名稱 = 值\n",
        "   a. 5 == 3 + 2(是否依樣?)\n",
        "   b. x = 2(替代)\n",
        "\n",
        "5. 型態:\n",
        "   a. 數字型態: 整數(int) 小數(float)\n",
        "   b. 字串(str)型態: \"afasdf\"\n",
        "\n",
        "6. 型態轉換:\n",
        "   int() float() str()\n",
        "```\n",
        "\n"
      ],
      "metadata": {
        "id": "hhqikfaCxSGb"
      }
    },
    {
      "cell_type": "code",
      "execution_count": 12,
      "metadata": {
        "colab": {
          "base_uri": "https://localhost:8080/"
        },
        "id": "46OENbBLonGt",
        "outputId": "6e3d94a4-f032-4172-faa4-c32085434196"
      },
      "outputs": [
        {
          "output_type": "stream",
          "name": "stdout",
          "text": [
            "你輸入的體重是:75\n",
            "你輸入的身高是:175\n",
            "bmi是:24.489795918367346\n"
          ]
        }
      ],
      "source": [
        "# calculate bmi: 體重(kg) / 身高(m) ^ 2\n",
        "weight = 75\n",
        "height = 175\n",
        "bmi = weight / (height/100) ** 2\n",
        "print(\"你輸入的體重是:\" + str(weight))\n",
        "print(\"你輸入的身高是:\" + str(height))\n",
        "print(\"bmi是:\" + str(bmi))"
      ]
    },
    {
      "cell_type": "markdown",
      "source": [
        "\n",
        "\n",
        "```\n",
        "解釋小數誤差\n",
        "1. 進位\n",
        "十進位: 0 1 2 .. 9 10\n",
        "六進位: 0 1 2 3 4 5 10 11 12 13 14 15 20 .... 55 100\n",
        "二進位: 0 1 10 11 100 101 110\n",
        "\n",
        "0.33333333.....(十進位) = 0.1(三進位)\n",
        "0.3333333 * 3 = 1\n",
        "\n",
        "```\n",
        "\n"
      ],
      "metadata": {
        "id": "mHIATBgt5lJY"
      }
    },
    {
      "cell_type": "code",
      "source": [
        "print(type(4.0))\n",
        "print(3 + 3.14)"
      ],
      "metadata": {
        "colab": {
          "base_uri": "https://localhost:8080/"
        },
        "id": "H8k452r543cj",
        "outputId": "94c1c6ba-2270-4e14-febe-bcc66a311c3a"
      },
      "execution_count": 9,
      "outputs": [
        {
          "output_type": "stream",
          "name": "stdout",
          "text": [
            "<class 'float'>\n",
            "6.140000000000001\n"
          ]
        }
      ]
    }
  ]
}