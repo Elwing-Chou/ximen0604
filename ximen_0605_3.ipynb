{
  "nbformat": 4,
  "nbformat_minor": 0,
  "metadata": {
    "colab": {
      "provenance": [],
      "authorship_tag": "ABX9TyOcUmCD9K3thGpuTE9S69iE",
      "include_colab_link": true
    },
    "kernelspec": {
      "name": "python3",
      "display_name": "Python 3"
    },
    "language_info": {
      "name": "python"
    }
  },
  "cells": [
    {
      "cell_type": "markdown",
      "metadata": {
        "id": "view-in-github",
        "colab_type": "text"
      },
      "source": [
        "<a href=\"https://colab.research.google.com/github/Elwing-Chou/ximen0604/blob/main/ximen_0605_3.ipynb\" target=\"_parent\"><img src=\"https://colab.research.google.com/assets/colab-badge.svg\" alt=\"Open In Colab\"/></a>"
      ]
    },
    {
      "cell_type": "code",
      "execution_count": 2,
      "metadata": {
        "colab": {
          "base_uri": "https://localhost:8080/"
        },
        "id": "huTcuaK9oZv7",
        "outputId": "69b923a6-ba95-4e3e-c8aa-dabfe3d1e9a4"
      },
      "outputs": [
        {
          "output_type": "stream",
          "name": "stdout",
          "text": [
            "EVEN\n",
            "EVEN\n",
            "LOSE\n",
            "LOSE\n",
            "LOSE\n",
            "LOSE\n",
            "EVEN\n",
            "LOSE\n",
            "LOSE\n",
            "WIN\n"
          ]
        }
      ],
      "source": [
        "import random\n",
        "\n",
        "win, even, lose = 0, 0, 0\n",
        "trans = [\"LOSE\", \"EVEN\", \"WIN\"]\n",
        "while win < 1:\n",
        "    # -1: lose 0: even 1: win\n",
        "    result = random.randint(-1, 1)\n",
        "    print(trans[result+1])\n",
        "    if result == -1:\n",
        "        lose = lose + 1\n",
        "    elif result == 0:\n",
        "        even = even + 1\n",
        "    elif result == 1:\n",
        "        win = win + 1"
      ]
    }
  ]
}