{
  "nbformat": 4,
  "nbformat_minor": 0,
  "metadata": {
    "colab": {
      "provenance": [],
      "authorship_tag": "ABX9TyPb+wA8/6JBLBKHBlX6nbI0",
      "include_colab_link": true
    },
    "kernelspec": {
      "name": "python3",
      "display_name": "Python 3"
    },
    "language_info": {
      "name": "python"
    }
  },
  "cells": [
    {
      "cell_type": "markdown",
      "metadata": {
        "id": "view-in-github",
        "colab_type": "text"
      },
      "source": [
        "<a href=\"https://colab.research.google.com/github/Elwing-Chou/ximen0604/blob/main/ximen_0605_3.ipynb\" target=\"_parent\"><img src=\"https://colab.research.google.com/assets/colab-badge.svg\" alt=\"Open In Colab\"/></a>"
      ]
    },
    {
      "cell_type": "markdown",
      "source": [
        "\n",
        "\n",
        "```\n",
        "布林型態(是否型態): True False\n",
        "1. 不: not 判斷式\n",
        "2. 組合: and (而且) or (或者)\n",
        "條件1 and 條件2\n",
        "```\n",
        "\n"
      ],
      "metadata": {
        "id": "5J0Ct4nXp6B_"
      }
    },
    {
      "cell_type": "code",
      "execution_count": 9,
      "metadata": {
        "colab": {
          "base_uri": "https://localhost:8080/"
        },
        "id": "huTcuaK9oZv7",
        "outputId": "486fd1c6-4797-4d53-bfac-7813ad375ee1"
      },
      "outputs": [
        {
          "output_type": "stream",
          "name": "stdout",
          "text": [
            "LOSE\n",
            "WIN\n",
            "LOSE\n",
            "LOSE\n",
            "總體lose\n"
          ]
        }
      ],
      "source": [
        "import random\n",
        "\n",
        "win, even, lose = 0, 0, 0\n",
        "trans = [\"LOSE\", \"EVEN\", \"WIN\"]\n",
        "while (win < 3) and (lose < 3):\n",
        "    # -1: lose 0: even 1: win\n",
        "    result = random.randint(-1, 1)\n",
        "    print(trans[result+1])\n",
        "    if result == -1:\n",
        "        lose = lose + 1\n",
        "    elif result == 0:\n",
        "        even = even + 1\n",
        "    elif result == 1:\n",
        "        win = win + 1\n",
        "\n",
        "if win > lose:\n",
        "    print(\"總體win\")\n",
        "else:\n",
        "    print(\"總體lose\")"
      ]
    },
    {
      "cell_type": "code",
      "source": [
        "import random\n",
        "# 寫法自由 地點自由 收尾自由\n",
        "win, even, lose = 0, 0, 0\n",
        "trans = [\"LOSE\", \"EVEN\", \"WIN\"]\n",
        "while True:\n",
        "    # -1: lose 0: even 1: win\n",
        "    result = random.randint(-1, 1)\n",
        "    print(trans[result+1])\n",
        "    if result == -1:\n",
        "        lose = lose + 1\n",
        "    elif result == 0:\n",
        "        even = even + 1\n",
        "    elif result == 1:\n",
        "        win = win + 1\n",
        "    if win == 3:\n",
        "        print(\"總體win\")\n",
        "        break\n",
        "    elif lose == 3:\n",
        "        print(\"總體lose\")\n",
        "        break\n"
      ],
      "metadata": {
        "colab": {
          "base_uri": "https://localhost:8080/"
        },
        "id": "lZdST_pgpxw3",
        "outputId": "2b939909-2a28-4e1d-a459-a2e790c177e8"
      },
      "execution_count": 5,
      "outputs": [
        {
          "output_type": "execute_result",
          "data": {
            "text/plain": [
              "True"
            ]
          },
          "metadata": {},
          "execution_count": 5
        }
      ]
    }
  ]
}