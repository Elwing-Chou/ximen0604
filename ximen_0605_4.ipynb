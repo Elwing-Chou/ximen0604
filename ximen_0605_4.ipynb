{
  "nbformat": 4,
  "nbformat_minor": 0,
  "metadata": {
    "colab": {
      "provenance": [],
      "authorship_tag": "ABX9TyPmyY+yK591dyLOqs5iUHAu",
      "include_colab_link": true
    },
    "kernelspec": {
      "name": "python3",
      "display_name": "Python 3"
    },
    "language_info": {
      "name": "python"
    }
  },
  "cells": [
    {
      "cell_type": "markdown",
      "metadata": {
        "id": "view-in-github",
        "colab_type": "text"
      },
      "source": [
        "<a href=\"https://colab.research.google.com/github/Elwing-Chou/ximen0604/blob/main/ximen_0605_4.ipynb\" target=\"_parent\"><img src=\"https://colab.research.google.com/assets/colab-badge.svg\" alt=\"Open In Colab\"/></a>"
      ]
    },
    {
      "cell_type": "markdown",
      "source": [
        "\n",
        "```\n",
        "list型態: 同類型東西聚合物\n",
        "```\n"
      ],
      "metadata": {
        "id": "cOMxd0iDAqdz"
      }
    },
    {
      "cell_type": "code",
      "execution_count": 6,
      "metadata": {
        "colab": {
          "base_uri": "https://localhost:8080/"
        },
        "id": "FTmV1Z1XAlsJ",
        "outputId": "f4fd6371-9fc5-4bfe-8bcc-69e4d516d2fe"
      },
      "outputs": [
        {
          "output_type": "stream",
          "name": "stdout",
          "text": [
            "40\n",
            "4\n"
          ]
        }
      ],
      "source": [
        "scores = [60, 20, 30, 40]\n",
        "print(scores[3])\n",
        "# 長度為4 但編號0 1 2 3\n",
        "print(len(scores))"
      ]
    },
    {
      "cell_type": "code",
      "source": [
        "scores = [60, 20, 30, 40]\n",
        "\n",
        "total = 0\n",
        "i = 0\n",
        "while i < len(scores):\n",
        "    # !!!! [i]: 以後我們會學到一些沒順序的群集\n",
        "    s = scores[i]\n",
        "    total = total + s\n",
        "    i = i + 1\n",
        "print(total)"
      ],
      "metadata": {
        "colab": {
          "base_uri": "https://localhost:8080/"
        },
        "id": "J9NvCYt_BbH6",
        "outputId": "e5f65e5e-992a-4b64-f6c3-32e218524fa7"
      },
      "execution_count": 8,
      "outputs": [
        {
          "output_type": "stream",
          "name": "stdout",
          "text": [
            "150\n"
          ]
        }
      ]
    },
    {
      "cell_type": "code",
      "source": [
        "# list的迴圈: for...in\n",
        "scores = [60, 20, 30, 40]\n",
        "total = 0\n",
        "# for 名稱 in list\n",
        "for s in scores:\n",
        "    total = total + s\n",
        "print(total)"
      ],
      "metadata": {
        "colab": {
          "base_uri": "https://localhost:8080/"
        },
        "id": "UCOeyZODCJ5b",
        "outputId": "71273df5-2ff3-4e4e-8949-7183b86cbaa3"
      },
      "execution_count": 10,
      "outputs": [
        {
          "output_type": "stream",
          "name": "stdout",
          "text": [
            "150\n"
          ]
        }
      ]
    },
    {
      "cell_type": "code",
      "source": [
        ""
      ],
      "metadata": {
        "id": "pC-7sBOACxXo"
      },
      "execution_count": null,
      "outputs": []
    }
  ]
}