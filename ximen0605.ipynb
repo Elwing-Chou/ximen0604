{
  "nbformat": 4,
  "nbformat_minor": 0,
  "metadata": {
    "colab": {
      "provenance": [],
      "authorship_tag": "ABX9TyOkdXPy8mxCa+Ukg1mo12VY",
      "include_colab_link": true
    },
    "kernelspec": {
      "name": "python3",
      "display_name": "Python 3"
    },
    "language_info": {
      "name": "python"
    }
  },
  "cells": [
    {
      "cell_type": "markdown",
      "metadata": {
        "id": "view-in-github",
        "colab_type": "text"
      },
      "source": [
        "<a href=\"https://colab.research.google.com/github/Elwing-Chou/ximen0604/blob/main/ximen0605.ipynb\" target=\"_parent\"><img src=\"https://colab.research.google.com/assets/colab-badge.svg\" alt=\"Open In Colab\"/></a>"
      ]
    },
    {
      "cell_type": "markdown",
      "source": [
        "\n",
        "\n",
        "```\n",
        "迴圈!!!\n",
        "準備一個記數器\n",
        "1. 初始: i = 0\n",
        "2. 增加: i = i + 1\n",
        "3. 判斷: i < 10\n",
        "\n",
        "i = 0\n",
        "while i < 10:\n",
        "    print(i, \"hi\")\n",
        "    i = i + 1\n",
        "\n",
        "養成好習慣: 好的東西就永遠這麼做!!!\n",
        "1. 1~10: i + 1\n",
        "2. 10..1: 10 - i\n",
        "3. 1 3 5...: 2*i+1\n",
        "\n",
        "1. 次數會在小於後面\n",
        "2. i = 0...次-1\n",
        "\n",
        "\n",
        "```\n",
        "\n"
      ],
      "metadata": {
        "id": "6tO_aHmYrGew"
      }
    },
    {
      "cell_type": "code",
      "execution_count": 1,
      "metadata": {
        "colab": {
          "base_uri": "https://localhost:8080/"
        },
        "id": "fUMvL3iirDwX",
        "outputId": "735b7f4c-786f-47f1-b631-f9114cce6b14"
      },
      "outputs": [
        {
          "output_type": "stream",
          "name": "stdout",
          "text": [
            "0 hi\n",
            "1 hi\n",
            "2 hi\n",
            "3 hi\n",
            "4 hi\n",
            "5 hi\n",
            "6 hi\n",
            "7 hi\n",
            "8 hi\n",
            "9 hi\n"
          ]
        }
      ],
      "source": [
        "i = 0\n",
        "while i < 10:\n",
        "    print(i+1, \"hi\")\n",
        "    i = i + 1"
      ]
    }
  ]
}