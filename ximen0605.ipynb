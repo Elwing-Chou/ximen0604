{
  "nbformat": 4,
  "nbformat_minor": 0,
  "metadata": {
    "colab": {
      "provenance": [],
      "authorship_tag": "ABX9TyOudQX+4Z+PeEgyyUMhghuh",
      "include_colab_link": true
    },
    "kernelspec": {
      "name": "python3",
      "display_name": "Python 3"
    },
    "language_info": {
      "name": "python"
    }
  },
  "cells": [
    {
      "cell_type": "markdown",
      "metadata": {
        "id": "view-in-github",
        "colab_type": "text"
      },
      "source": [
        "<a href=\"https://colab.research.google.com/github/Elwing-Chou/ximen0604/blob/main/ximen0605.ipynb\" target=\"_parent\"><img src=\"https://colab.research.google.com/assets/colab-badge.svg\" alt=\"Open In Colab\"/></a>"
      ]
    },
    {
      "cell_type": "markdown",
      "source": [
        "\n",
        "\n",
        "```\n",
        "迴圈!!!\n",
        "準備一個記數器\n",
        "1. 初始: i = 0\n",
        "2. 增加: i = i + 1\n",
        "3. 判斷: i < 10\n",
        "\n",
        "i = 0\n",
        "while i < 10:\n",
        "    print(i, \"hi\")\n",
        "    i = i + 1\n",
        "\n",
        "養成好習慣: 好的東西就永遠這麼做!!!\n",
        "1. 1~10: i + 1\n",
        "2. 10..1: 10 - i\n",
        "3. 1 3 5...: 2*i+1\n",
        "\n",
        "1. 次數會在小於後面\n",
        "2. i = 0...次-1\n",
        "\n",
        "https://github.com/Elwing-Chou/ximen0604\n",
        "```\n",
        "\n"
      ],
      "metadata": {
        "id": "6tO_aHmYrGew"
      }
    },
    {
      "cell_type": "code",
      "execution_count": 1,
      "metadata": {
        "colab": {
          "base_uri": "https://localhost:8080/"
        },
        "id": "fUMvL3iirDwX",
        "outputId": "735b7f4c-786f-47f1-b631-f9114cce6b14"
      },
      "outputs": [
        {
          "output_type": "stream",
          "name": "stdout",
          "text": [
            "0 hi\n",
            "1 hi\n",
            "2 hi\n",
            "3 hi\n",
            "4 hi\n",
            "5 hi\n",
            "6 hi\n",
            "7 hi\n",
            "8 hi\n",
            "9 hi\n"
          ]
        }
      ],
      "source": [
        "i = 0\n",
        "while i < 10:\n",
        "    print(i+1, \"hi\")\n",
        "    i = i + 1"
      ]
    },
    {
      "cell_type": "markdown",
      "source": [
        "\n",
        "\n",
        "```\n",
        "*\n",
        "**\n",
        "***\n",
        "****\n",
        "\n",
        "   *\n",
        "  **\n",
        " ***\n",
        "****\n",
        "\n",
        "```\n",
        "\n"
      ],
      "metadata": {
        "id": "fAOCYWgxx6Mf"
      }
    },
    {
      "cell_type": "code",
      "source": [
        "print(\"hi\" * 4)\n",
        "print([1, 2] * 4)"
      ],
      "metadata": {
        "colab": {
          "base_uri": "https://localhost:8080/"
        },
        "id": "xYHhpZpbx2q3",
        "outputId": "9143866b-e4e0-4d07-b12a-7338056bccb8"
      },
      "execution_count": 3,
      "outputs": [
        {
          "output_type": "stream",
          "name": "stdout",
          "text": [
            "hihihihi\n",
            "[1, 2, 1, 2, 1, 2, 1, 2]\n"
          ]
        }
      ]
    },
    {
      "cell_type": "code",
      "source": [
        "i = 0\n",
        "while i < 10:\n",
        "    print(\"o\" * (i + 1))\n",
        "    i = i + 1"
      ],
      "metadata": {
        "id": "HLTaGRm8yV_H"
      },
      "execution_count": null,
      "outputs": []
    }
  ]
}